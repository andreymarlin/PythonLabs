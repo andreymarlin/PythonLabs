{
 "cells": [
  {
   "cell_type": "code",
   "execution_count": 1,
   "metadata": {},
   "outputs": [
    {
     "name": "stdout",
     "output_type": "stream",
     "text": [
      "Division by zero.\n",
      "0.0\n",
      "Division by zero.\n",
      "1.0\n",
      "0.0\n",
      "0.0\n",
      "0.0\n",
      "1.0\n"
     ]
    }
   ],
   "source": [
    "from module1 import f1, f2\n",
    "\n",
    "print(f1(0, 0))\n",
    "print(f1(0, 1))\n",
    "print(f1(1, 0))\n",
    "print(f1(1, 1))\n",
    "\n",
    "print(f2(0, 0))\n",
    "print(f2(0, 1))\n",
    "print(f2(1, 0))\n",
    "print(f2(1, 1))"
   ]
  }
 ],
 "metadata": {
  "kernelspec": {
   "display_name": "base",
   "language": "python",
   "name": "python3"
  },
  "language_info": {
   "codemirror_mode": {
    "name": "ipython",
    "version": 3
   },
   "file_extension": ".py",
   "mimetype": "text/x-python",
   "name": "python",
   "nbconvert_exporter": "python",
   "pygments_lexer": "ipython3",
   "version": "3.12.3"
  }
 },
 "nbformat": 4,
 "nbformat_minor": 2
}
