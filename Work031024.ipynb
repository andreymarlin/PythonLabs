{
 "cells": [
  {
   "cell_type": "code",
   "execution_count": 10,
   "metadata": {},
   "outputs": [
    {
     "name": "stdout",
     "output_type": "stream",
     "text": [
      "1\n",
      "2\n",
      "3\n",
      "4\n",
      "as\n",
      "the\n",
      "an\n",
      "for\n",
      "The sum is = 10.\n",
      "['an', 'as', 'for', 'the']\n"
     ]
    }
   ],
   "source": [
    "# Excercise 1\n",
    "n = int(input('Enter n = '))\n",
    "str = []\n",
    "sum = 0\n",
    "for i in range(n):\n",
    "    k = input()\n",
    "    print(k)\n",
    "    try:\n",
    "        k1 = int(k)\n",
    "        sum += k1\n",
    "    except:\n",
    "        str.append(k)\n",
    "print(f\"The sum is = {sum}.\")\n",
    "str = sorted(str)\n",
    "print(str)"
   ]
  },
  {
   "cell_type": "code",
   "execution_count": 1,
   "metadata": {},
   "outputs": [
    {
     "name": "stdout",
     "output_type": "stream",
     "text": [
      "January\n",
      "You need to enter month of your birth by its number! Not by its name\n",
      "13\n",
      "You entered incorrect month number.\n",
      "2\n",
      "You were born in February. White snow fell outside the window.\n"
     ]
    }
   ],
   "source": [
    "# Exercise 2\n",
    "def monfs():\n",
    "    a = input(\"You need to enter the real month number (from 1 to 12) = \")\n",
    "    print(a)\n",
    "    try:\n",
    "        b = int(a)\n",
    "        if b <= 0 or b > 12:\n",
    "            print(\"You entered incorrect month number.\")\n",
    "            monfs()\n",
    "        else:\n",
    "            print(f\"You were born in {mon[str(b)]}. {season[str(b)]}\")\n",
    "    except:\n",
    "        print(f\"You need to enter month of your birth by its number! Not by its name\")\n",
    "        monfs()\n",
    "\n",
    "# Dictionary with all the 12 months:\n",
    "mon = {\n",
    "    '1': \"January\",\n",
    "    '2': 'February',\n",
    "    '3': 'March',\n",
    "    '4': 'April',\n",
    "    '5': 'May',\n",
    "    '6': 'June',\n",
    "    '7': 'July',\n",
    "    '8': 'August',\n",
    "    '9': 'September',\n",
    "    '10': 'October',\n",
    "    '11': 'November',\n",
    "    '12': 'December'\n",
    "}\n",
    "\n",
    "# Dictionary with descriptions for the 4 seasons:\n",
    "season = {\n",
    "    '1': 'White snow fell outside the window.',\n",
    "    '2': 'White snow fell outside the window.',\n",
    "    '3': 'Birds sang beautiful songs.',\n",
    "    '4': 'Birds sang beautiful songs.',\n",
    "    '5': 'Birds sang beautiful songs.',\n",
    "    '6': 'The sun shone brighter than ever.',\n",
    "    '7': 'The sun shone brighter than ever.',\n",
    "    '8': 'The sun shone brighter than ever.',\n",
    "    '9': 'The harvest was incredible',\n",
    "    '10': 'The harvest was incredible',\n",
    "    '11': 'The harvest was incredible',\n",
    "    '12': 'White snow fell outside the window.'\n",
    "}\n",
    "\n",
    "monfs()"
   ]
  }
 ],
 "metadata": {
  "kernelspec": {
   "display_name": "Python 3",
   "language": "python",
   "name": "python3"
  },
  "language_info": {
   "codemirror_mode": {
    "name": "ipython",
    "version": 3
   },
   "file_extension": ".py",
   "mimetype": "text/x-python",
   "name": "python",
   "nbconvert_exporter": "python",
   "pygments_lexer": "ipython3",
   "version": "3.12.3"
  }
 },
 "nbformat": 4,
 "nbformat_minor": 2
}
