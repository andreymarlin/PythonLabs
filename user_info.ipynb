{
 "cells": [
  {
   "cell_type": "code",
   "execution_count": 2,
   "metadata": {},
   "outputs": [
    {
     "name": "stdout",
     "output_type": "stream",
     "text": [
      "Hello, my name is Andrei, I am 22 years old, and I am from Moscow.\n"
     ]
    }
   ],
   "source": [
    "class User_info():\n",
    "    \"\"\"Input and output of basic info about the user.\"\"\"\n",
    "\n",
    "    def __init__(self, name, age, hometown):\n",
    "        \"\"\"Initialization of main attributes: name, age, hometown.\"\"\"\n",
    "        self.name = name\n",
    "        self.age = age\n",
    "        self.hometown = hometown\n",
    "    \n",
    "    def output_info(self):\n",
    "        \"\"\"Output of user's characteristics.\"\"\"\n",
    "        print(f\"Hello, {self.name}! You are {self.age} years old, you are from {self.hometown}.\")\n",
    "\n",
    "# let's create a new instance\n",
    "user = User_info(input(\"Please enter your name: \"),\n",
    "                input(\"Please enter your age: \"),\n",
    "                input(\"Please enter your hometown: \"))\n",
    "\n",
    "user.output_info()"
   ]
  }
 ],
 "metadata": {
  "kernelspec": {
   "display_name": "base",
   "language": "python",
   "name": "python3"
  },
  "language_info": {
   "codemirror_mode": {
    "name": "ipython",
    "version": 3
   },
   "file_extension": ".py",
   "mimetype": "text/x-python",
   "name": "python",
   "nbconvert_exporter": "python",
   "pygments_lexer": "ipython3",
   "version": "3.12.3"
  }
 },
 "nbformat": 4,
 "nbformat_minor": 2
}
