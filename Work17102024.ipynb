{
 "cells": [
  {
   "cell_type": "code",
   "execution_count": 7,
   "metadata": {},
   "outputs": [
    {
     "name": "stdout",
     "output_type": "stream",
     "text": [
      "Collecting numpy\n",
      "  Downloading numpy-2.1.2-cp312-cp312-win_amd64.whl.metadata (59 kB)\n",
      "Downloading numpy-2.1.2-cp312-cp312-win_amd64.whl (12.6 MB)\n",
      "   ---------------------------------------- 0.0/12.6 MB ? eta -:--:--\n",
      "    --------------------------------------- 0.3/12.6 MB ? eta -:--:--\n",
      "   ---- ----------------------------------- 1.3/12.6 MB 5.2 MB/s eta 0:00:03\n",
      "   ----- ---------------------------------- 1.8/12.6 MB 6.7 MB/s eta 0:00:02\n",
      "   ------------- -------------------------- 4.2/12.6 MB 6.4 MB/s eta 0:00:02\n",
      "   ---------------- ----------------------- 5.2/12.6 MB 7.1 MB/s eta 0:00:02\n",
      "   ------------------------ --------------- 7.6/12.6 MB 7.0 MB/s eta 0:00:01\n",
      "   ---------------------------- ----------- 8.9/12.6 MB 7.1 MB/s eta 0:00:01\n",
      "   ---------------------------------- ----- 10.7/12.6 MB 7.3 MB/s eta 0:00:01\n",
      "   ---------------------------------------  12.3/12.6 MB 7.3 MB/s eta 0:00:01\n",
      "   ---------------------------------------- 12.6/12.6 MB 7.3 MB/s eta 0:00:00\n",
      "Installing collected packages: numpy\n",
      "Successfully installed numpy-2.1.2\n",
      "[1 2 3 4 5]\n"
     ]
    }
   ],
   "source": [
    "! pip install numpy\n",
    "import numpy as np\n",
    "my_list = [1, 2, 3, 4, 5]\n",
    "my_array = np.array(my_list)\n",
    "print(my_array)"
   ]
  },
  {
   "cell_type": "code",
   "execution_count": 8,
   "metadata": {},
   "outputs": [
    {
     "name": "stdout",
     "output_type": "stream",
     "text": [
      "[ 7 10 13 16 19 22 25 28 31 34 37 40 43 46 49 52 55 58 61 64 67 70 73 76\n",
      " 79 82 85 88 91 94 97]\n"
     ]
    }
   ],
   "source": [
    "import numpy as np\n",
    "my_array = np.arange(7, 100, 3)\n",
    "print(my_array)"
   ]
  },
  {
   "cell_type": "code",
   "execution_count": 9,
   "metadata": {},
   "outputs": [
    {
     "name": "stdout",
     "output_type": "stream",
     "text": [
      "[[0.1749804  0.17882494 0.63435299 0.73005989 0.45333251 0.9630468 ]\n",
      " [0.52962452 0.7365819  0.3027157  0.57303256 0.37492469 0.44537227]\n",
      " [0.87251049 0.03903683 0.49056052 0.20536238 0.36105374 0.80473547]\n",
      " [0.88942735 0.12517333 0.15718802 0.42649939 0.18374806 0.41195896]\n",
      " [0.54392193 0.18553963 0.81723339 0.11986192 0.72413909 0.37560969]\n",
      " [0.04305189 0.54039216 0.88970925 0.35751651 0.74664031 0.85597764]]\n"
     ]
    }
   ],
   "source": [
    "my_array = np.random.uniform(low=0.0, high=1.0, size=(6, 6))\n",
    "print(my_array)"
   ]
  },
  {
   "cell_type": "code",
   "execution_count": 10,
   "metadata": {},
   "outputs": [
    {
     "name": "stdout",
     "output_type": "stream",
     "text": [
      "[[2.08603784 1.84139395 1.74707466 2.74318101 2.63546383 2.62650178]\n",
      " [3.20447982 1.51747032 3.66892608 3.09111822 1.79049911 2.20471928]\n",
      " [3.07940013 2.70884802 2.42130511 2.48187531 3.32236664 2.39915824]\n",
      " [2.75280106 2.47421745 3.02715724 2.6417898  2.33802462 3.53183928]\n",
      " [3.39415973 1.08057402 0.54547243 3.77331429 1.39567522 1.99342007]\n",
      " [0.30174274 2.04243374 3.66109423 2.54077228 3.69498526 2.91629873]]\n"
     ]
    }
   ],
   "source": [
    "mean = 2.0\n",
    "std_dev = 1.0\n",
    "size = (6, 6)\n",
    "\n",
    "my_array = np.random.normal(loc=mean, scale=std_dev, size=size)\n",
    "\n",
    "print(my_array)"
   ]
  },
  {
   "cell_type": "code",
   "execution_count": 11,
   "metadata": {},
   "outputs": [
    {
     "name": "stdout",
     "output_type": "stream",
     "text": [
      "[[0. 0. 0. 0. 0.]\n",
      " [0. 0. 0. 0. 0.]\n",
      " [0. 0. 1. 0. 0.]\n",
      " [0. 0. 0. 0. 0.]\n",
      " [0. 0. 0. 0. 0.]]\n"
     ]
    }
   ],
   "source": [
    "a = np.zeros((5,5),)\n",
    "a[2][2] = 1\n",
    "\n",
    "print(a)"
   ]
  },
  {
   "cell_type": "code",
   "execution_count": 13,
   "metadata": {},
   "outputs": [
    {
     "name": "stdout",
     "output_type": "stream",
     "text": [
      "[[1. 1. 1. 1. 1.]\n",
      " [0. 0. 0. 0. 0.]\n",
      " [1. 1. 1. 1. 1.]\n",
      " [0. 0. 0. 0. 0.]\n",
      " [1. 1. 1. 1. 1.]]\n"
     ]
    }
   ],
   "source": [
    "a = np.zeros((5,5),)\n",
    "for i in range(5):\n",
    "    if i % 2 == 0:\n",
    "        for k in range(5):\n",
    "            a[i][k] = 1\n",
    "\n",
    "print(a)"
   ]
  },
  {
   "cell_type": "code",
   "execution_count": 14,
   "metadata": {},
   "outputs": [
    {
     "name": "stdout",
     "output_type": "stream",
     "text": [
      "[[1. 0. 1. 0. 1.]\n",
      " [0. 0. 0. 0. 0.]\n",
      " [1. 0. 1. 0. 1.]\n",
      " [0. 0. 0. 0. 0.]\n",
      " [1. 0. 1. 0. 1.]]\n"
     ]
    }
   ],
   "source": [
    "a = np.zeros((5,5),)\n",
    "for i in range(5):\n",
    "    if i % 2 == 0:\n",
    "        for k in range(5):\n",
    "            if k % 2 == 0:\n",
    "                a[k][i] = 1\n",
    "\n",
    "print(a)"
   ]
  },
  {
   "cell_type": "code",
   "execution_count": 17,
   "metadata": {},
   "outputs": [
    {
     "name": "stdout",
     "output_type": "stream",
     "text": [
      "[[ 1.  1.  1.]\n",
      " [ 1. 18.  1.]\n",
      " [ 1.  1.  1.]]\n"
     ]
    }
   ],
   "source": [
    "a = np.ones((3,3),)\n",
    "a[1][1] = 9\n",
    "\n",
    "for i in range(3):\n",
    "    for j in range(3):\n",
    "        if a[i][j] == 9:\n",
    "            a[i][j] = 18\n",
    "print(a)"
   ]
  },
  {
   "cell_type": "code",
   "execution_count": 19,
   "metadata": {},
   "outputs": [
    {
     "name": "stdout",
     "output_type": "stream",
     "text": [
      "[[ 1.  1.  1.  1.]\n",
      " [ 1.  1.  1.  1.]\n",
      " [18. 18. 18.  1.]\n",
      " [18. 18. 18.  1.]]\n"
     ]
    }
   ],
   "source": [
    "a = np.ones((4,4),)\n",
    "j = 2\n",
    "while j != 4:\n",
    "    for i in range(3):\n",
    "        a[j][i] = 9\n",
    "    j += 1\n",
    "\n",
    "for i in range(4):\n",
    "    for j in range(4):\n",
    "        if a[i][j] == 9:\n",
    "            a[i][j] = 18\n",
    "print(a)"
   ]
  },
  {
   "cell_type": "code",
   "execution_count": 22,
   "metadata": {},
   "outputs": [
    {
     "name": "stdout",
     "output_type": "stream",
     "text": [
      "[[ 1.  1.  1.  1.  1.  1.]\n",
      " [ 1.  1.  1.  1.  1.  1.]\n",
      " [ 1.  1. 18. 18.  1.  1.]\n",
      " [ 1.  1. 18. 18.  1.  1.]\n",
      " [ 1.  1.  1.  1.  1.  1.]\n",
      " [ 1.  1.  1.  1.  1.  1.]]\n"
     ]
    }
   ],
   "source": [
    "a = np.ones((6,6),)\n",
    "j = 2\n",
    "while j != 4:\n",
    "    i = 2\n",
    "    while i != 4:\n",
    "        a[j][i] = 9\n",
    "        i += 1\n",
    "    j += 1\n",
    "\n",
    "for i in range(6):\n",
    "    for j in range(6):\n",
    "        if a[i][j] == 9:\n",
    "            a[i][j] = 18\n",
    "print(a)"
   ]
  },
  {
   "cell_type": "markdown",
   "metadata": {},
   "source": [
    "EXERCISE. Given an image as a Numpy array of shape (5,5,3), representing image's width and height\n",
    "of 5 pixels and 3 channels: Red, Green, Blue.\n",
    "Write a preprocess() function to process image with the following steps:\n",
    "Check the input image size, if it's not (5,5,3), raise an error.\n",
    "Make a copy of the input image so that changes won't affect original data.\n",
    "Crop the copied image to the center so that the final result is 3x3x3 (get center values only)\n",
    "This image will be fed into a deep learning model, which requires another dimension for batch.\n",
    "Therefore, you need to add 1 dimension to the image so that the final shape is (1,3,3,3)\n",
    "Return a dictionary contain these following info:\n",
    "\"image\": the processed image,\n",
    "\"shape\": the processed image's shape,\n",
    "\"dims\" : the string \"multiple\" if the number of dimension is > 1, otherwise, the string \"single\",\n",
    "\"n_elements\": number of elements of the processed image."
   ]
  },
  {
   "cell_type": "code",
   "execution_count": 29,
   "metadata": {},
   "outputs": [
    {
     "name": "stdout",
     "output_type": "stream",
     "text": [
      "{'image': array([[[['Red', 'Green', 'Blue'],\n",
      "         ['Red', 'Green', 'Blue'],\n",
      "         ['Red', 'Green', 'Blue']],\n",
      "\n",
      "        [['Red', 'Green', 'Blue'],\n",
      "         ['Red', 'Green', 'Blue'],\n",
      "         ['Red', 'Green', 'Blue']],\n",
      "\n",
      "        [['Red', 'Green', 'Blue'],\n",
      "         ['Red', 'Green', 'Blue'],\n",
      "         ['Red', 'Green', 'Blue']]]], dtype='<U5'), 'shape': (1, 3, 3, 3), 'dims': 4, 'n_elements': 27}\n"
     ]
    }
   ],
   "source": [
    "import random\n",
    "colors = ['Red', 'Green', 'Blue']\n",
    "img = np.array(\n",
    "    [\n",
    "        [colors, colors, colors, colors, colors],\n",
    "        [colors, colors, colors, colors, colors],\n",
    "        [colors, colors, colors, colors, colors],\n",
    "        [colors, colors, colors, colors, colors],\n",
    "        [colors, colors, colors, colors, colors]\n",
    "    ]\n",
    ")\n",
    "\n",
    "def preprocess(ar):\n",
    "    if ar.shape != (5, 5, 3):\n",
    "        print(\"An error has been occurred!\")\n",
    "    ar1 = ar.copy()\n",
    "    ar1 = ar1[1:4,1:4,0:3]\n",
    "    ar1 = ar1.reshape((1,3,3,3))\n",
    "    a = ar1.shape\n",
    "    b = ar1.ndim\n",
    "    c = ar1.size\n",
    "    if b == 1:\n",
    "        b = single\n",
    "    dct = { \"image\": ar1,\n",
    "            \"shape\": a,\n",
    "            \"dims\" : b,\n",
    "            \"n_elements\": c\n",
    "        }\n",
    "    return dct\n",
    "\n",
    "img2 = preprocess(img)\n",
    "print(img2)"
   ]
  },
  {
   "cell_type": "markdown",
   "metadata": {},
   "source": [
    "Exercise 2.\n",
    "a. Create a 1D array and sum all its elements, then find the max, min values.\n",
    "b. Create a 2D array and sum all elements, find the max, min values along rows.\n",
    "c. Create a 2D array and sum all elements, find the max, min, values along\n",
    "columns.\n",
    "d. Write a NumPy program to create a 3x3 matrix with values ranging\n",
    "from 2 to 10.\n",
    "e. Write a NumPy program to reverse an array (the first element becomes\n",
    "the last)."
   ]
  },
  {
   "cell_type": "code",
   "execution_count": 37,
   "metadata": {},
   "outputs": [
    {
     "name": "stdout",
     "output_type": "stream",
     "text": [
      "[12. 15. 11. 18. 16. 11. 17. 17. 14. 20.]\n",
      "min is 11.0\n",
      "min is 20.0\n",
      "the sum is 151.0\n",
      "[[18. 20. 12. 20.]\n",
      " [10. 14. 19. 14.]\n",
      " [13. 12. 15. 12.]\n",
      " [12. 15. 10. 12.]]\n",
      "min is [10. 12. 10. 12.]\n",
      "min is [18. 20. 19. 20.]\n",
      "the sum is 228.0\n",
      "[[19. 14. 14. 19.]\n",
      " [14. 12. 13. 19.]\n",
      " [10. 12. 16. 12.]\n",
      " [14. 18. 20. 11.]]\n",
      "min is [14. 12. 10. 11.]\n",
      "min is [19. 19. 16. 20.]\n",
      "the sum is 237.0\n",
      "[[ 5.  7.  6.]\n",
      " [10.  5. 10.]\n",
      " [ 5.  6.  8.]]\n",
      "[16. 16. 11. 11. 15. 11. 10. 19. 11. 14.]\n",
      "[14. 11. 19. 10. 11. 15. 11. 11. 16. 16.]\n"
     ]
    }
   ],
   "source": [
    "# a)\n",
    "import random\n",
    "import numpy as np\n",
    "\n",
    "a = np.zeros(10,)\n",
    "for k in range(10):\n",
    "    a[k] = random.randint(10, 20)\n",
    "print(a)\n",
    "min = a.min(axis=0)\n",
    "print(f\"min is {min}\")\n",
    "max = a.max(axis=0)\n",
    "print(f\"min is {max}\")\n",
    "sum = np.sum(a)\n",
    "print(f\"the sum is {sum}\")\n",
    "\n",
    "# b)\n",
    "b = np.ones((4, 4),)\n",
    "for k in range(4):\n",
    "    for j in range(4):\n",
    "        b[k][j]= random.randint(10, 20)\n",
    "print(b)\n",
    "min = b.min(axis=0)\n",
    "print(f\"min is {min}\")\n",
    "max = b.max(axis=0)\n",
    "print(f\"min is {max}\")\n",
    "sum = np.sum(b)\n",
    "print(f\"the sum is {sum}\")\n",
    "\n",
    "# c)\n",
    "c = np.zeros((4, 4),)\n",
    "for k in range(4):\n",
    "    for j in range(4):\n",
    "        c[k][j]= random.randint(10, 20)\n",
    "print(c)\n",
    "min = c.min(axis=1)\n",
    "print(f\"min is {min}\")\n",
    "max = c.max(axis=1)\n",
    "print(f\"min is {max}\")\n",
    "sum = np.sum(c)\n",
    "print(f\"the sum is {sum}\")\n",
    "\n",
    "# d)\n",
    "d = np.ones((3, 3),)\n",
    "for k in range(3):\n",
    "    for j in range(3):\n",
    "        d[k][j]= random.randint(2, 10)\n",
    "print(d)\n",
    "\n",
    "# e)\n",
    "e = np.zeros(10,)\n",
    "for j in range(10):\n",
    "        e[j]= random.randint(10, 20)\n",
    "print(e)\n",
    "e = np.flip(e)\n",
    "print(e)\n"
   ]
  }
 ],
 "metadata": {
  "kernelspec": {
   "display_name": "base",
   "language": "python",
   "name": "python3"
  },
  "language_info": {
   "codemirror_mode": {
    "name": "ipython",
    "version": 3
   },
   "file_extension": ".py",
   "mimetype": "text/x-python",
   "name": "python",
   "nbconvert_exporter": "python",
   "pygments_lexer": "ipython3",
   "version": "3.12.3"
  }
 },
 "nbformat": 4,
 "nbformat_minor": 2
}
