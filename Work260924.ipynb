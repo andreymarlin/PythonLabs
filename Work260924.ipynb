{
 "cells": [
  {
   "cell_type": "markdown",
   "metadata": {},
   "source": [
    "Task 3. If you write out all natural numbers less than 10 , multiples of 3 or 5 then we get 3, 5, 6 and 9. The sum of these numbers is equal to 23 . Find the sum of all the numbers less than 1000 , multiples of 3 or 5."
   ]
  },
  {
   "cell_type": "code",
   "execution_count": 1,
   "metadata": {},
   "outputs": [
    {
     "name": "stdout",
     "output_type": "stream",
     "text": [
      "The sum of all the numbers less than 1000, multiples of 3 or 5 is equal to 233168.\n"
     ]
    }
   ],
   "source": [
    "sum = 0\n",
    "for i in range(1, 1000):\n",
    "    if i % 3 == 0 or i % 5 == 0:\n",
    "        sum += i\n",
    "print(f\"The sum of all the numbers less than 1000, multiples of 3 or 5 is equal to {sum}.\")"
   ]
  },
  {
   "cell_type": "markdown",
   "metadata": {},
   "source": [
    "Task 4. Each subsequent element of the Fibonacci series is obtained by adding the two previous ones. Starting from 1 and 2, the first 10 elements will be:\n",
    "1, 2, 3, 5, 8, 13, 21, 34, 55, 89, ...\n",
    "Find the sum of all the even elements of the Fibonacci series that do not exceed four million."
   ]
  },
  {
   "cell_type": "code",
   "execution_count": 2,
   "metadata": {},
   "outputs": [
    {
     "name": "stdout",
     "output_type": "stream",
     "text": [
      "4613732\n"
     ]
    }
   ],
   "source": [
    "N = 4_000_000\n",
    "\n",
    "class FibonacciSequence():\n",
    "    \"\"\"Describes Fibonacci sequence.\"\"\"\n",
    "\n",
    "    def __init__(self, number1):\n",
    "        \"\"\"Initialization of Fibonacci number.\"\"\"\n",
    "        self.number1 = number1\n",
    "\n",
    "    def cond_ch(self):\n",
    "        \"\"\"Checks the property of being even.\"\"\"\n",
    "        if self.number1 % 2 == 0:\n",
    "            return self.number1\n",
    "        else:\n",
    "            return 0\n",
    "\n",
    "# n_1 is the current Fibonacci number, n_2 & n_3 are the numbers it was obtained by.\n",
    "n_1 = 2\n",
    "n_2 = 1\n",
    "n_3 = 1\n",
    "sum = 2\n",
    "\n",
    "# Let's create a new sequence.\n",
    "while n_1 < N:\n",
    "    n_3 = n_2\n",
    "    n_2 = n_1\n",
    "    fibnum = FibonacciSequence(n_2 + n_3)\n",
    "    n_1 = fibnum.number1\n",
    "    if n_1 < N:\n",
    "        sum += fibnum.cond_ch()\n",
    "\n",
    "print(sum)\n"
   ]
  },
  {
   "cell_type": "markdown",
   "metadata": {},
   "source": [
    "Task 5. The prime divisors of the number 13195 are 5, 7, 13 and 29. What is the largest divisor of the number 600851475143, which is a prime number?"
   ]
  },
  {
   "cell_type": "code",
   "execution_count": 3,
   "metadata": {},
   "outputs": [
    {
     "name": "stdout",
     "output_type": "stream",
     "text": [
      "The largest prime divisor of the number 600851475143 is 6857.\n"
     ]
    }
   ],
   "source": [
    "import math\n",
    "\n",
    "number = 600851475143\n",
    "devisors = []\n",
    "\n",
    "for i in range(2, math.ceil(math.sqrt(number))):\n",
    "    if number % i == 0:\n",
    "        prime = True\n",
    "        for j in devisors:\n",
    "            if i % j == 0:\n",
    "                prime = False\n",
    "                break\n",
    "        if prime is True:\n",
    "            devisors.append(i)\n",
    "\n",
    "max_dev = 1\n",
    "for k in devisors:\n",
    "    if k > max_dev:\n",
    "        max_dev = k\n",
    "\n",
    "print(f\"The largest prime divisor of the number 600851475143 is {max_dev}.\")"
   ]
  }
 ],
 "metadata": {
  "kernelspec": {
   "display_name": "base",
   "language": "python",
   "name": "python3"
  },
  "language_info": {
   "codemirror_mode": {
    "name": "ipython",
    "version": 3
   },
   "file_extension": ".py",
   "mimetype": "text/x-python",
   "name": "python",
   "nbconvert_exporter": "python",
   "pygments_lexer": "ipython3",
   "version": "3.12.3"
  }
 },
 "nbformat": 4,
 "nbformat_minor": 2
}
