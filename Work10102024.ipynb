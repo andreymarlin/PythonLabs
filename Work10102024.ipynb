{
 "cells": [
  {
   "cell_type": "markdown",
   "metadata": {},
   "source": [
    "Exercise 1. Try to create your own class with some attributes. Write two or\n",
    "three copies under it. Let them differ from each other by some of their own\n",
    "attributes. Make sure that all class attributes belong to all created instances,\n",
    "and the unique attributes of one instance do not belong to another instance."
   ]
  },
  {
   "cell_type": "code",
   "execution_count": 3,
   "metadata": {},
   "outputs": [],
   "source": [
    "class Airline():\n",
    "    \"\"\"Simple airline model.\"\"\"\n",
    "\n",
    "    def __init__(self, headquarters, base, fleet_size) -> None:\n",
    "        self.headquarters = headquarters\n",
    "        self.base = base\n",
    "        self.fleet_size = fleet_size\n",
    "\n",
    "j7_airlines = Airline('Novosibirsk', 'Moscow', 110)\n",
    "j7_airlines.cargo_fleet_size = 2\n",
    "\n",
    "victory = Airline('Moscow', 'Moscow', 46)\n",
    "victory.low_cost_airline = True\n",
    "\n",
    "azure_airlines = Airline('Moscow', 'Moscow', 18)\n",
    "azure_airlines.charter_flights = True\n"
   ]
  },
  {
   "cell_type": "markdown",
   "metadata": {},
   "source": [
    "Exercise 2. Реализуйте класс Gun, описывающий ружье. При создании экземпляра\n",
    "класс не должен принимать никаких аргументов.\n",
    "Класс Gun должен иметь один метод экземпляра:\n",
    "shoot() — метод, при вызове которого выводится строка pif"
   ]
  },
  {
   "cell_type": "code",
   "execution_count": 7,
   "metadata": {},
   "outputs": [
    {
     "name": "stdout",
     "output_type": "stream",
     "text": [
      "pif\n"
     ]
    }
   ],
   "source": [
    "class Gun():\n",
    "\n",
    "    def shoot(self):\n",
    "        print('pif')\n",
    "\n",
    "gun1 = Gun()\n",
    "gun1.shoot()"
   ]
  },
  {
   "cell_type": "markdown",
   "metadata": {},
   "source": [
    "Exercise 3. Вам доступен класс User, описывающий интернет-пользователя.\n",
    "При создании экземпляра класс принимает один аргумент:\n",
    "name — имя пользователя\n",
    "Экземпляр класса User имеет два атрибута:\n",
    "name — имя пользователя\n",
    "friends — количество друзей пользователя, начальным значением является 0\n",
    "Класс User имеет один метод экземпляра:\n",
    "add_friends() — метод, принимающий в качестве аргумента целое неотрицательное\n",
    "число n и увеличивающий количество друзей пользователя на n\n"
   ]
  },
  {
   "cell_type": "code",
   "execution_count": 10,
   "metadata": {},
   "outputs": [
    {
     "name": "stdout",
     "output_type": "stream",
     "text": [
      "13\n"
     ]
    }
   ],
   "source": [
    "class User():\n",
    "\n",
    "    def __init__(self, name):\n",
    "        self.name = name\n",
    "        self.friends_number = 0\n",
    "    \n",
    "    def add_friends(self, n):\n",
    "        self.friends_number += n\n",
    "\n",
    "usr1 = User('teacher1960')\n",
    "usr1.add_friends(10)\n",
    "usr1.add_friends(3)\n",
    "print(usr1.friends_number)"
   ]
  },
  {
   "cell_type": "markdown",
   "metadata": {},
   "source": [
    "Exercise 4. Реализуйте класс Circle, описывающий круг.\n",
    "При создании экземпляра класс должен принимать один аргумент:\n",
    "radius — радиус круга\n",
    "Экземпляр класса Circle должен иметь четыре атрибута:\n",
    "radius — радиус круга\n",
    "diameter — диаметр круга\n",
    "area — площадь круга\n",
    "length — длина окружности"
   ]
  },
  {
   "cell_type": "code",
   "execution_count": 14,
   "metadata": {},
   "outputs": [
    {
     "name": "stdout",
     "output_type": "stream",
     "text": [
      "Circle with radius = 10 has diameter = 20, has area = 314.0, has length = 62.800000000000004.\n"
     ]
    }
   ],
   "source": [
    "class Circle():\n",
    "\n",
    "    def __init__(self, radius):\n",
    "        self.radius = radius\n",
    "        self.diameter = radius*2\n",
    "        self.area = radius * radius * 3.14\n",
    "        self.length = 2 * 3.14 * radius\n",
    "\n",
    "crcl1 = Circle(10)\n",
    "a = f\"Circle with radius = {crcl1.radius} has diameter = {crcl1.diameter},\"\n",
    "b = f\" has area = {crcl1.area}, has length = {crcl1.length}.\"\n",
    "print(a+b)"
   ]
  },
  {
   "cell_type": "markdown",
   "metadata": {},
   "source": [
    "Exercise 5. Create the class House that describes a house. When creating an\n",
    "instance of the class, it takes two arguments in the following order:\n",
    "color is the color of the house;\n",
    "rooms is the number of rooms in the house.\n",
    "An instance of this class has two attributes:\n",
    "color is the color of the house;\n",
    "rooms is the number of rooms in the house.\n",
    "Implement two instance methods for the House class:\n",
    "paint(), a method that takes the value new_color as an argument and changes\n",
    "the current color of the house to new_color;\n",
    "add_rooms() is a method that takes an integer n as an argument and increases\n",
    "the number of rooms in the house by n."
   ]
  },
  {
   "cell_type": "code",
   "execution_count": 17,
   "metadata": {},
   "outputs": [
    {
     "name": "stdout",
     "output_type": "stream",
     "text": [
      "white\n",
      "5\n"
     ]
    }
   ],
   "source": [
    "class House():\n",
    "\n",
    "    def __init__(self, color, rooms):\n",
    "        self.color = color\n",
    "        self.rooms = rooms\n",
    "    \n",
    "    def paint(self, new_color):\n",
    "        self.color = new_color\n",
    "    \n",
    "    def add_rooms(self, n):\n",
    "        self.rooms += n\n",
    "\n",
    "casa_blanca = House('white', 3)\n",
    "casa_blanca.add_rooms(2)\n",
    "print(casa_blanca.color)\n",
    "print(casa_blanca.rooms)\n",
    "\n"
   ]
  },
  {
   "cell_type": "markdown",
   "metadata": {},
   "source": [
    "Exercise 6. Implement the Ant class describing an ant that moves along the\n",
    "coordinate plane in four directions: up, down, left and right. When creating\n",
    "an instance, the class must accept two arguments in the following order:\n",
    "x, y. By default, both arguments have the value 0.\n",
    "The class must have four instance methods:\n",
    "move_up() is a method that takes an integer n as an argument and increases\n",
    "the y coordinate by n,\n",
    "move_down() is a method that takes an integer n as an argument and decreases\n",
    "the y coordinate by n,\n",
    "move_right() is a method that takes an integer n as an argument and increases\n",
    "the x coordinate by n,\n",
    "move_left() is a method that takes an integer n as an argument and decreases\n",
    "the x coordinate by n."
   ]
  },
  {
   "cell_type": "code",
   "execution_count": 20,
   "metadata": {},
   "outputs": [
    {
     "name": "stdout",
     "output_type": "stream",
     "text": [
      "2 0\n",
      "0 0\n"
     ]
    }
   ],
   "source": [
    "class Ant():\n",
    "\n",
    "    def __init__(self, x=0, y=0):\n",
    "        self.x = x\n",
    "        self.y = y\n",
    "    \n",
    "    def move_up(self, n):\n",
    "        self.y += n\n",
    "\n",
    "    def move_down(self, n):\n",
    "        self.y -= n\n",
    "\n",
    "    def move_right(self, n):\n",
    "        self.x += n\n",
    "    \n",
    "    def move_left(self, n):\n",
    "        self.x -= n\n",
    "\n",
    "ant1 = Ant(2)\n",
    "print(ant1.x, ant1.y)\n",
    "ant1.move_left(1)\n",
    "ant1.move_left(3)\n",
    "ant1.move_right(2)\n",
    "ant1.move_down(5)\n",
    "ant1.move_up(5)\n",
    "print(ant1.x, ant1.y)"
   ]
  },
  {
   "cell_type": "markdown",
   "metadata": {},
   "source": [
    "Exercise 7. Implement the Vector class, which describes a vector on the plane.\n",
    "When creating an instance, the class must accept two arguments in the following\n",
    "order:\n",
    "x is the coordinate of the vector along the x axis, the default value is 0;\n",
    "y is the coordinate of the vector along the y axis, the default value is 0.\n",
    "An instance of the Vector class must have two attributes:\n",
    "x is the coordinate of the vector on the x axis;\n",
    "y is the coordinate of the vector on the y axis.\n",
    "The Vector class must have two instance methods:\n",
    "abs() is a method that returns the vector module;\n",
    "orient() is a method that returns the direction of the vector."
   ]
  },
  {
   "cell_type": "code",
   "execution_count": 21,
   "metadata": {},
   "outputs": [
    {
     "name": "stdout",
     "output_type": "stream",
     "text": [
      "length is 2.0.\n",
      "direction is north\n"
     ]
    }
   ],
   "source": [
    "import math\n",
    "\n",
    "class Vector():\n",
    "\n",
    "    def __init__(self, x=0, y=0):\n",
    "        self.x = x\n",
    "        self.y = y\n",
    "        \n",
    "    def abs(self):\n",
    "        return math.sqrt(self.x * self.x + self.y + self.y)\n",
    "    def orient(self):\n",
    "        x = self.x\n",
    "        y = self.y\n",
    "        if x < 0:\n",
    "            b = 'west'\n",
    "            if y < 0:\n",
    "                a = 'south'\n",
    "                m = '-'\n",
    "                return a + m + b\n",
    "            elif y == 0:\n",
    "                return b\n",
    "            else:\n",
    "                a = 'north'\n",
    "                m = '-'\n",
    "                return a + m + b\n",
    "        elif x == 0:\n",
    "            if y < 0:\n",
    "                a = 'south'\n",
    "                return a\n",
    "            elif y == 0:\n",
    "                return 'no direction'\n",
    "            else:\n",
    "                a = 'north'\n",
    "                return a\n",
    "        else:\n",
    "            b = 'east'\n",
    "            if y < 0:\n",
    "                a = 'south'\n",
    "                m = '-'\n",
    "                return a + m + b\n",
    "            elif y == 0:\n",
    "                return b\n",
    "            else:\n",
    "                a = 'north'\n",
    "                m = '-'\n",
    "                return a + m + b\n",
    "\n",
    "vec1 = Vector(y = 2)\n",
    "length = vec1.abs()\n",
    "print(f\"length is {length}.\")\n",
    "print(f\"direction is {vec1.orient()}\")\n",
    "\n"
   ]
  }
 ],
 "metadata": {
  "kernelspec": {
   "display_name": "base",
   "language": "python",
   "name": "python3"
  },
  "language_info": {
   "codemirror_mode": {
    "name": "ipython",
    "version": 3
   },
   "file_extension": ".py",
   "mimetype": "text/x-python",
   "name": "python",
   "nbconvert_exporter": "python",
   "pygments_lexer": "ipython3",
   "version": "3.12.3"
  }
 },
 "nbformat": 4,
 "nbformat_minor": 2
}
