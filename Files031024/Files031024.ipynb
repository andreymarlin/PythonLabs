{
 "cells": [
  {
   "cell_type": "markdown",
   "metadata": {},
   "source": [
    "Exercise 1. Write a program that accepts a string with the name of a text file at the input and displays the contents of this file."
   ]
  },
  {
   "cell_type": "code",
   "execution_count": 3,
   "metadata": {},
   "outputs": [
    {
     "name": "stdout",
     "output_type": "stream",
     "text": [
      "Hello.\n",
      "My name is Andrei Glushenko.\n",
      "I am 22 years old and have a dream to fly on Tupolev-160 like Putin did.\n"
     ]
    }
   ],
   "source": [
    "file1 = open('File1.txt')\n",
    "content1 = file1.read()\n",
    "file1.close()\n",
    "print(content1)"
   ]
  },
  {
   "cell_type": "markdown",
   "metadata": {},
   "source": [
    "Exercise 2. Write a program that accepts a string with the name of a text file at the input and displays the penultimate line from the contents of this file."
   ]
  },
  {
   "cell_type": "code",
   "execution_count": 4,
   "metadata": {},
   "outputs": [
    {
     "name": "stdout",
     "output_type": "stream",
     "text": [
      "My name is Andrei Glushenko.\n"
     ]
    }
   ],
   "source": [
    "file2 = open('File1.txt')\n",
    "lins = []\n",
    "for line in file2:\n",
    "\tlins.append(line.rstrip())\n",
    "file2.close()\n",
    "print(lins[-2])\n"
   ]
  },
  {
   "cell_type": "markdown",
   "metadata": {},
   "source": [
    "Exercise 3. Write a program that accepts a string with the name of a text file at the input and displays a random string from the contents of this file."
   ]
  },
  {
   "cell_type": "code",
   "execution_count": 14,
   "metadata": {},
   "outputs": [
    {
     "name": "stdout",
     "output_type": "stream",
     "text": [
      "I am 22 years old and have a dream to fly on Tupolev-160 like Putin did.\n"
     ]
    }
   ],
   "source": [
    "import random\n",
    "file3 = open('File1.txt')\n",
    "lins = []\n",
    "for line in file3:\n",
    "\tlins.append(line.rstrip())\n",
    "file3.close()\n",
    "print(lins[random.randint(0, len(lins) - 1)])\n"
   ]
  },
  {
   "cell_type": "markdown",
   "metadata": {},
   "source": [
    "Exercise 4. Write a program that works with a text file containing only numbers separated from each other by a space or a line break. At the output, the program outputs the sum of all the numbers contained in the file."
   ]
  },
  {
   "cell_type": "code",
   "execution_count": 24,
   "metadata": {},
   "outputs": [
    {
     "name": "stdout",
     "output_type": "stream",
     "text": [
      "The sum of numbers in file (99 88 77 6 5 4 333 222 111 000 1010 898 747) is equal to 3600."
     ]
    }
   ],
   "source": [
    "file4 = open('File2.txt')\n",
    "content4 = file4.read()\n",
    "file4.close()\n",
    "sum = 0\n",
    "list1 = content4.split()\n",
    "for strs in list1:\n",
    "    sum += int(strs)\n",
    "str1 = 'The sum of numbers in file ('\n",
    "str2 = ') is equal to '\n",
    "print(str1 + content4 + str2 + str(sum), end='.')\n"
   ]
  },
  {
   "cell_type": "markdown",
   "metadata": {},
   "source": [
    "Exercise 5. Write a program that accepts a text file as input, which outputs on separate lines the number of lines, words and letters in the file."
   ]
  },
  {
   "cell_type": "code",
   "execution_count": 10,
   "metadata": {},
   "outputs": [
    {
     "name": "stdout",
     "output_type": "stream",
     "text": [
      "It is a file containing of numbers and letters \n",
      "\n",
      "Here are only 2 numbers \n",
      "\n",
      "Here are nineteen words and 104 letters \n",
      "\n",
      "This file contains 2 numbers, 19 words and 104 letters.\n"
     ]
    }
   ],
   "source": [
    "file5 = open('File3.txt')\n",
    "list5 = []\n",
    "for line in file5:\n",
    "    list5.append(line.rstrip())\n",
    "for q in list5:\n",
    "    print(q, '\\n')\n",
    "file5.close()\n",
    "sum_numbers = 0\n",
    "sum_words = 0\n",
    "sum_letters = 0\n",
    "sum5 = 0\n",
    "for x in list5:\n",
    "    a1 = list(x)\n",
    "    for z in a1:\n",
    "        try:\n",
    "            f1 = int(z)\n",
    "            sum5 = 0\n",
    "        except:\n",
    "            sum_letters += 1\n",
    "    a2 = x.split()\n",
    "    for y in a2:\n",
    "        try:\n",
    "            f2 = int(y)\n",
    "            sum_numbers += 1\n",
    "        except:\n",
    "            sum_words += 1\n",
    "print(f\"This file contains {sum_numbers} numbers, {sum_words} words and {sum_letters} letters.\")\n"
   ]
  }
 ],
 "metadata": {
  "kernelspec": {
   "display_name": "base",
   "language": "python",
   "name": "python3"
  },
  "language_info": {
   "codemirror_mode": {
    "name": "ipython",
    "version": 3
   },
   "file_extension": ".py",
   "mimetype": "text/x-python",
   "name": "python",
   "nbconvert_exporter": "python",
   "pygments_lexer": "ipython3",
   "version": "3.12.3"
  }
 },
 "nbformat": 4,
 "nbformat_minor": 2
}
