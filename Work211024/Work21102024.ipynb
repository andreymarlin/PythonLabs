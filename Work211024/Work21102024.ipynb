{
 "cells": [
  {
   "cell_type": "code",
   "execution_count": 1,
   "metadata": {},
   "outputs": [
    {
     "name": "stdout",
     "output_type": "stream",
     "text": [
      "Requirement already satisfied: numpy in c:\\users\\glush\\miniconda3\\envs\\myenv\\lib\\site-packages (1.26.4)\n",
      "Requirement already satisfied: pandas in c:\\users\\glush\\miniconda3\\envs\\myenv\\lib\\site-packages (2.2.2)\n",
      "Requirement already satisfied: numpy>=1.22.4 in c:\\users\\glush\\miniconda3\\envs\\myenv\\lib\\site-packages (from pandas) (1.26.4)\n",
      "Requirement already satisfied: python-dateutil>=2.8.2 in c:\\users\\glush\\miniconda3\\envs\\myenv\\lib\\site-packages (from pandas) (2.9.0.post0)\n",
      "Requirement already satisfied: pytz>=2020.1 in c:\\users\\glush\\miniconda3\\envs\\myenv\\lib\\site-packages (from pandas) (2024.1)\n",
      "Requirement already satisfied: tzdata>=2022.7 in c:\\users\\glush\\miniconda3\\envs\\myenv\\lib\\site-packages (from pandas) (2023.3)\n",
      "Requirement already satisfied: six>=1.5 in c:\\users\\glush\\miniconda3\\envs\\myenv\\lib\\site-packages (from python-dateutil>=2.8.2->pandas) (1.16.0)\n"
     ]
    }
   ],
   "source": [
    "! pip install numpy\n",
    "! pip install pandas"
   ]
  },
  {
   "cell_type": "markdown",
   "metadata": {},
   "source": [
    "EXERCISE\n",
    "Create series, data frame, explicitly set index.\n",
    "1. Create a Series from a list\n",
    "2. Create a DataFrame from a list\n",
    "3. Create a DataFrame from a dictionary.\n",
    "4. Create a DataFrame from a list of dictionaries.\n",
    "5. Create a DataFrame from a dictionary of Series.\n",
    "6. Create a DataFrame in any way you want, then set a custom index for it.\n",
    "7. Change the index back to original for the DataFrame in question 6."
   ]
  },
  {
   "cell_type": "code",
   "execution_count": 12,
   "metadata": {},
   "outputs": [
    {
     "data": {
      "text/plain": [
       "0    OVB\n",
       "1    MRS\n",
       "2    MXP\n",
       "3    DUR\n",
       "4    MPM\n",
       "5    BNE\n",
       "dtype: object"
      ]
     },
     "execution_count": 12,
     "metadata": {},
     "output_type": "execute_result"
    }
   ],
   "source": [
    "import numpy as np\n",
    "import pandas as pd\n",
    "\n",
    "#1\n",
    "list1 = ['OVB', 'MRS', 'MXP', 'DUR', 'MPM', 'BNE']\n",
    "s = pd.Series(list1)\n",
    "s"
   ]
  },
  {
   "cell_type": "code",
   "execution_count": 32,
   "metadata": {},
   "outputs": [
    {
     "data": {
      "text/html": [
       "<div>\n",
       "<style scoped>\n",
       "    .dataframe tbody tr th:only-of-type {\n",
       "        vertical-align: middle;\n",
       "    }\n",
       "\n",
       "    .dataframe tbody tr th {\n",
       "        vertical-align: top;\n",
       "    }\n",
       "\n",
       "    .dataframe thead th {\n",
       "        text-align: right;\n",
       "    }\n",
       "</style>\n",
       "<table border=\"1\" class=\"dataframe\">\n",
       "  <thead>\n",
       "    <tr style=\"text-align: right;\">\n",
       "      <th></th>\n",
       "      <th>0</th>\n",
       "    </tr>\n",
       "  </thead>\n",
       "  <tbody>\n",
       "    <tr>\n",
       "      <th>0</th>\n",
       "      <td>OVB</td>\n",
       "    </tr>\n",
       "    <tr>\n",
       "      <th>1</th>\n",
       "      <td>MRS</td>\n",
       "    </tr>\n",
       "    <tr>\n",
       "      <th>2</th>\n",
       "      <td>MXP</td>\n",
       "    </tr>\n",
       "    <tr>\n",
       "      <th>3</th>\n",
       "      <td>DUR</td>\n",
       "    </tr>\n",
       "    <tr>\n",
       "      <th>4</th>\n",
       "      <td>MPM</td>\n",
       "    </tr>\n",
       "    <tr>\n",
       "      <th>5</th>\n",
       "      <td>BNE</td>\n",
       "    </tr>\n",
       "  </tbody>\n",
       "</table>\n",
       "</div>"
      ],
      "text/plain": [
       "     0\n",
       "0  OVB\n",
       "1  MRS\n",
       "2  MXP\n",
       "3  DUR\n",
       "4  MPM\n",
       "5  BNE"
      ]
     },
     "execution_count": 32,
     "metadata": {},
     "output_type": "execute_result"
    }
   ],
   "source": [
    "#2\n",
    "df = pd.DataFrame(list1)\n",
    "df"
   ]
  },
  {
   "cell_type": "code",
   "execution_count": 33,
   "metadata": {},
   "outputs": [
    {
     "data": {
      "text/html": [
       "<div>\n",
       "<style scoped>\n",
       "    .dataframe tbody tr th:only-of-type {\n",
       "        vertical-align: middle;\n",
       "    }\n",
       "\n",
       "    .dataframe tbody tr th {\n",
       "        vertical-align: top;\n",
       "    }\n",
       "\n",
       "    .dataframe thead th {\n",
       "        text-align: right;\n",
       "    }\n",
       "</style>\n",
       "<table border=\"1\" class=\"dataframe\">\n",
       "  <thead>\n",
       "    <tr style=\"text-align: right;\">\n",
       "      <th></th>\n",
       "      <th>Number_of_destinations</th>\n",
       "    </tr>\n",
       "  </thead>\n",
       "  <tbody>\n",
       "    <tr>\n",
       "      <th>OVB</th>\n",
       "      <td>88</td>\n",
       "    </tr>\n",
       "    <tr>\n",
       "      <th>MRS</th>\n",
       "      <td>54</td>\n",
       "    </tr>\n",
       "    <tr>\n",
       "      <th>MXP</th>\n",
       "      <td>120</td>\n",
       "    </tr>\n",
       "    <tr>\n",
       "      <th>DUR</th>\n",
       "      <td>31</td>\n",
       "    </tr>\n",
       "    <tr>\n",
       "      <th>MPM</th>\n",
       "      <td>48</td>\n",
       "    </tr>\n",
       "    <tr>\n",
       "      <th>BNE</th>\n",
       "      <td>29</td>\n",
       "    </tr>\n",
       "  </tbody>\n",
       "</table>\n",
       "</div>"
      ],
      "text/plain": [
       "     Number_of_destinations\n",
       "OVB                      88\n",
       "MRS                      54\n",
       "MXP                     120\n",
       "DUR                      31\n",
       "MPM                      48\n",
       "BNE                      29"
      ]
     },
     "execution_count": 33,
     "metadata": {},
     "output_type": "execute_result"
    }
   ],
   "source": [
    "#3\n",
    "dict1 = {\n",
    "    'OVB': 88,\n",
    "    'MRS': 54,\n",
    "    'MXP': 120,\n",
    "    'DUR': 31,\n",
    "    'MPM': 48,\n",
    "    'BNE': 29\n",
    "}\n",
    "list2 = pd.Series(dict1)\n",
    "df2 = pd.DataFrame(list2, columns=['Number_of_destinations'])\n",
    "df2"
   ]
  },
  {
   "cell_type": "code",
   "execution_count": 34,
   "metadata": {},
   "outputs": [
    {
     "name": "stdout",
     "output_type": "stream",
     "text": [
      "      Name  Age         City\n",
      "0    Alice   30     New York\n",
      "1   Antony   25       Madrid\n",
      "2  Charles   35  Vladivostok\n"
     ]
    }
   ],
   "source": [
    "#4\n",
    "data = [\n",
    "    {'Name': 'Alice', 'Age': 30, 'City': 'New York'},\n",
    "    {'Name': 'Antony', 'Age': 25, 'City': 'Madrid'},\n",
    "    {'Name': 'Charles', 'Age': 35, 'City': 'Vladivostok'}\n",
    "]\n",
    "\n",
    "df = pd.DataFrame(data)\n",
    "\n",
    "print(df)"
   ]
  },
  {
   "cell_type": "code",
   "execution_count": 41,
   "metadata": {},
   "outputs": [
    {
     "data": {
      "text/html": [
       "<div>\n",
       "<style scoped>\n",
       "    .dataframe tbody tr th:only-of-type {\n",
       "        vertical-align: middle;\n",
       "    }\n",
       "\n",
       "    .dataframe tbody tr th {\n",
       "        vertical-align: top;\n",
       "    }\n",
       "\n",
       "    .dataframe thead th {\n",
       "        text-align: right;\n",
       "    }\n",
       "</style>\n",
       "<table border=\"1\" class=\"dataframe\">\n",
       "  <thead>\n",
       "    <tr style=\"text-align: right;\">\n",
       "      <th></th>\n",
       "      <th>OVB</th>\n",
       "      <th>DME</th>\n",
       "      <th>IKT</th>\n",
       "    </tr>\n",
       "  </thead>\n",
       "  <tbody>\n",
       "    <tr>\n",
       "      <th>0</th>\n",
       "      <td>1</td>\n",
       "      <td>4</td>\n",
       "      <td>7</td>\n",
       "    </tr>\n",
       "    <tr>\n",
       "      <th>1</th>\n",
       "      <td>2</td>\n",
       "      <td>5</td>\n",
       "      <td>8</td>\n",
       "    </tr>\n",
       "    <tr>\n",
       "      <th>2</th>\n",
       "      <td>3</td>\n",
       "      <td>6</td>\n",
       "      <td>9</td>\n",
       "    </tr>\n",
       "  </tbody>\n",
       "</table>\n",
       "</div>"
      ],
      "text/plain": [
       "   OVB  DME  IKT\n",
       "0    1    4    7\n",
       "1    2    5    8\n",
       "2    3    6    9"
      ]
     },
     "execution_count": 41,
     "metadata": {},
     "output_type": "execute_result"
    }
   ],
   "source": [
    "#5\n",
    "series1 = pd.Series([1, 2, 3], name='A')\n",
    "series2 = pd.Series([4, 5, 6], name='B')\n",
    "series3 = pd.Series([7, 8, 9], name='C')\n",
    "\n",
    "data = {\n",
    "    'OVB': series1,\n",
    "    'DME': series2,\n",
    "    'IKT': series3\n",
    "}\n",
    "\n",
    "df = pd.DataFrame(data)\n",
    "df"
   ]
  },
  {
   "cell_type": "code",
   "execution_count": 43,
   "metadata": {},
   "outputs": [
    {
     "data": {
      "text/html": [
       "<div>\n",
       "<style scoped>\n",
       "    .dataframe tbody tr th:only-of-type {\n",
       "        vertical-align: middle;\n",
       "    }\n",
       "\n",
       "    .dataframe tbody tr th {\n",
       "        vertical-align: top;\n",
       "    }\n",
       "\n",
       "    .dataframe thead th {\n",
       "        text-align: right;\n",
       "    }\n",
       "</style>\n",
       "<table border=\"1\" class=\"dataframe\">\n",
       "  <thead>\n",
       "    <tr style=\"text-align: right;\">\n",
       "      <th></th>\n",
       "      <th>Age</th>\n",
       "      <th>City</th>\n",
       "    </tr>\n",
       "    <tr>\n",
       "      <th>Name</th>\n",
       "      <th></th>\n",
       "      <th></th>\n",
       "    </tr>\n",
       "  </thead>\n",
       "  <tbody>\n",
       "    <tr>\n",
       "      <th>Alice</th>\n",
       "      <td>25</td>\n",
       "      <td>New York</td>\n",
       "    </tr>\n",
       "    <tr>\n",
       "      <th>Bob</th>\n",
       "      <td>30</td>\n",
       "      <td>Los Angeles</td>\n",
       "    </tr>\n",
       "    <tr>\n",
       "      <th>Andrei</th>\n",
       "      <td>22</td>\n",
       "      <td>Novosibirsk</td>\n",
       "    </tr>\n",
       "    <tr>\n",
       "      <th>Elizaveta</th>\n",
       "      <td>83</td>\n",
       "      <td>Berdsk</td>\n",
       "    </tr>\n",
       "  </tbody>\n",
       "</table>\n",
       "</div>"
      ],
      "text/plain": [
       "           Age         City\n",
       "Name                       \n",
       "Alice       25     New York\n",
       "Bob         30  Los Angeles\n",
       "Andrei      22  Novosibirsk\n",
       "Elizaveta   83       Berdsk"
      ]
     },
     "execution_count": 43,
     "metadata": {},
     "output_type": "execute_result"
    }
   ],
   "source": [
    "#6\n",
    "data = {\n",
    "    'Name': ['Alice', 'Bob', 'Andrei', 'Elizaveta'],\n",
    "    'Age': [25, 30, 22, 83],\n",
    "    'City': ['New York', 'Los Angeles', 'Novosibirsk', 'Berdsk']\n",
    "}\n",
    "\n",
    "df = pd.DataFrame(data)\n",
    "df.set_index('Name', inplace=True)\n",
    "df"
   ]
  },
  {
   "cell_type": "code",
   "execution_count": 48,
   "metadata": {},
   "outputs": [
    {
     "data": {
      "text/html": [
       "<div>\n",
       "<style scoped>\n",
       "    .dataframe tbody tr th:only-of-type {\n",
       "        vertical-align: middle;\n",
       "    }\n",
       "\n",
       "    .dataframe tbody tr th {\n",
       "        vertical-align: top;\n",
       "    }\n",
       "\n",
       "    .dataframe thead th {\n",
       "        text-align: right;\n",
       "    }\n",
       "</style>\n",
       "<table border=\"1\" class=\"dataframe\">\n",
       "  <thead>\n",
       "    <tr style=\"text-align: right;\">\n",
       "      <th></th>\n",
       "      <th>Name</th>\n",
       "      <th>Age</th>\n",
       "      <th>City</th>\n",
       "    </tr>\n",
       "  </thead>\n",
       "  <tbody>\n",
       "    <tr>\n",
       "      <th>0</th>\n",
       "      <td>Alice</td>\n",
       "      <td>25</td>\n",
       "      <td>New York</td>\n",
       "    </tr>\n",
       "    <tr>\n",
       "      <th>1</th>\n",
       "      <td>Bob</td>\n",
       "      <td>30</td>\n",
       "      <td>Los Angeles</td>\n",
       "    </tr>\n",
       "    <tr>\n",
       "      <th>2</th>\n",
       "      <td>Andrei</td>\n",
       "      <td>22</td>\n",
       "      <td>Novosibirsk</td>\n",
       "    </tr>\n",
       "    <tr>\n",
       "      <th>3</th>\n",
       "      <td>Elizaveta</td>\n",
       "      <td>83</td>\n",
       "      <td>Berdsk</td>\n",
       "    </tr>\n",
       "  </tbody>\n",
       "</table>\n",
       "</div>"
      ],
      "text/plain": [
       "        Name  Age         City\n",
       "0      Alice   25     New York\n",
       "1        Bob   30  Los Angeles\n",
       "2     Andrei   22  Novosibirsk\n",
       "3  Elizaveta   83       Berdsk"
      ]
     },
     "execution_count": 48,
     "metadata": {},
     "output_type": "execute_result"
    }
   ],
   "source": [
    "\n",
    "list3 = [0, 1, 2, 3]\n",
    "df.reset_index(inplace=True)\n",
    "df"
   ]
  },
  {
   "cell_type": "markdown",
   "metadata": {},
   "source": [
    "Q1.\n",
    "Read data from file ../data/data.csv to a DataFrame\n",
    "Show 7 random rows from the DataFrame\n",
    "Show last 3 rows of the DataFrame\n",
    "Is there any missing data?\n",
    "Q2.\n",
    "Read data from file ../data/students.xlsx to a DataFrame, sheet Grades\n",
    "Is there any missing data?\n",
    "Update Machine Learning grade of student id = 4 to 3, Deep Learning grade of student id = 5 to 4\n",
    "Save DataFrame to a csv file."
   ]
  },
  {
   "cell_type": "code",
   "execution_count": 17,
   "metadata": {},
   "outputs": [
    {
     "name": "stdout",
     "output_type": "stream",
     "text": [
      "      work_year experience_level employment_type                  job_title  \\\n",
      "3749       2020               SE              FT  Machine Learning Engineer   \n",
      "1313       2023               SE              FT              Data Engineer   \n",
      "3470       2021               EN              FT               Data Analyst   \n",
      "1241       2023               SE              FT               Data Analyst   \n",
      "2899       2022               SE              FT               Data Analyst   \n",
      "410        2023               MI              FT  Machine Learning Engineer   \n",
      "3310       2022               SE              FT             Data Scientist   \n",
      "\n",
      "      salary salary_currency  salary_in_usd company_location company_size  \n",
      "3749  150000             USD         150000               US            L  \n",
      "1313  160000             USD         160000               US            M  \n",
      "3470   50000             USD          50000               US            M  \n",
      "1241  180000             USD         180000               US            M  \n",
      "2899   95000             USD          95000               US            M  \n",
      "410   100000             GBP         121523               GB            M  \n",
      "3310  120000             USD         120000               US            L  \n",
      "      work_year experience_level employment_type                  job_title  \\\n",
      "3758       2020               SE              FT       Data Science Manager   \n",
      "3759       2020               SE              FT  Machine Learning Engineer   \n",
      "3760       2020               SE              FT             Data Scientist   \n",
      "\n",
      "      salary salary_currency  salary_in_usd company_location company_size  \n",
      "3758  190200             USD         190200               US            M  \n",
      "3759   40000             EUR          45618               HR            S  \n",
      "3760  412000             USD         412000               US            L  \n",
      "There is no missing data.\n"
     ]
    }
   ],
   "source": [
    "import pandas as pd\n",
    "\n",
    "# Q1\n",
    "df = pd.read_csv(\"data.csv\")\n",
    "random_rows = df.sample(n=7)\n",
    "print(random_rows)\n",
    "last_3_rows = df.tail(3)\n",
    "print(last_3_rows)\n",
    "print('There is no missing data.')"
   ]
  },
  {
   "cell_type": "code",
   "execution_count": 15,
   "metadata": {},
   "outputs": [
    {
     "name": "stdout",
     "output_type": "stream",
     "text": [
      "Collecting openpyxl\n",
      "  Downloading openpyxl-3.1.5-py2.py3-none-any.whl.metadata (2.5 kB)\n",
      "Collecting et-xmlfile (from openpyxl)\n",
      "  Downloading et_xmlfile-2.0.0-py3-none-any.whl.metadata (2.7 kB)\n",
      "Downloading openpyxl-3.1.5-py2.py3-none-any.whl (250 kB)\n",
      "Downloading et_xmlfile-2.0.0-py3-none-any.whl (18 kB)\n",
      "Installing collected packages: et-xmlfile, openpyxl\n",
      "Successfully installed et-xmlfile-2.0.0 openpyxl-3.1.5\n"
     ]
    }
   ],
   "source": [
    "! pip install openpyxl"
   ]
  },
  {
   "cell_type": "code",
   "execution_count": 21,
   "metadata": {},
   "outputs": [
    {
     "name": "stdout",
     "output_type": "stream",
     "text": [
      "   Id  Python  Machine Learning  Deep Learning\n",
      "0   1       4               5.0            3.0\n",
      "1   2       5               5.0            4.0\n",
      "2   3       5               5.0            5.0\n",
      "3   4       5               NaN            5.0\n",
      "4   5       4               4.0            NaN\n",
      "5   6       3               5.0            4.0\n",
      "There is missing data.\n",
      "   Id  Python  Machine Learning  Deep Learning\n",
      "0   1       4               5.0            3.0\n",
      "1   2       5               5.0            4.0\n",
      "2   3       5               5.0            5.0\n",
      "3   4       5               3.0            5.0\n",
      "4   5       4               4.0            5.0\n",
      "5   6       3               5.0            4.0\n"
     ]
    }
   ],
   "source": [
    "# Q2\n",
    "file_path = 'students.xlsx'\n",
    "sheet = 'Grades'\n",
    "df = pd.read_excel(file_path, sheet_name=sheet)\n",
    "print(df)\n",
    "print('There is missing data.')\n",
    "df.loc[df['Id'] == 4, 'Machine Learning'] = 3\n",
    "df.loc[df['Id'] == 5, 'Deep Learning'] = 5\n",
    "print(df)\n",
    "df.to_csv('grades_upd.csv', index=False, sep=';', na_rep='N/A', header=True)"
   ]
  }
 ],
 "metadata": {
  "kernelspec": {
   "display_name": "myenv",
   "language": "python",
   "name": "python3"
  },
  "language_info": {
   "codemirror_mode": {
    "name": "ipython",
    "version": 3
   },
   "file_extension": ".py",
   "mimetype": "text/x-python",
   "name": "python",
   "nbconvert_exporter": "python",
   "pygments_lexer": "ipython3",
   "version": "3.10.13"
  }
 },
 "nbformat": 4,
 "nbformat_minor": 2
}
