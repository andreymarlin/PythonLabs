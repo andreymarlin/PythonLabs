{
 "cells": [
  {
   "cell_type": "code",
   "execution_count": 15,
   "metadata": {},
   "outputs": [
    {
     "name": "stdout",
     "output_type": "stream",
     "text": [
      "name1 100\n"
     ]
    },
    {
     "data": {
      "text/plain": [
       "(1, 2, 4)"
      ]
     },
     "execution_count": 15,
     "metadata": {},
     "output_type": "execute_result"
    }
   ],
   "source": [
    "def summation(*args, **kargs):\n",
    "    for k, v in kargs.items():\n",
    "        print(k, v)\n",
    "    return args\n",
    "\n",
    "summation(1, 2, 4, name1 = 100)"
   ]
  },
  {
   "cell_type": "code",
   "execution_count": 16,
   "metadata": {},
   "outputs": [
    {
     "name": "stdout",
     "output_type": "stream",
     "text": [
      "12\n"
     ]
    }
   ],
   "source": [
    "def fun1():\n",
    "    global var\n",
    "    var2 = var + var\n",
    "    def fun2():\n",
    "        nonlocal var2\n",
    "        sum = var2 + var2 + var2\n",
    "        return sum\n",
    "    return fun2()\n",
    "\n",
    "var = 2\n",
    "print(fun1())"
   ]
  },
  {
   "cell_type": "markdown",
   "metadata": {},
   "source": [
    "Exercise 1. Implement recursively a function that returns the Nth term of the Fibonacci sequence."
   ]
  },
  {
   "cell_type": "code",
   "execution_count": 17,
   "metadata": {},
   "outputs": [
    {
     "name": "stdout",
     "output_type": "stream",
     "text": [
      "8\n"
     ]
    }
   ],
   "source": [
    "def element(order):\n",
    "    if order == 1:\n",
    "        return order\n",
    "    elif order == 2:\n",
    "        return order\n",
    "    else:\n",
    "        return element(order-1) + element(order-2)\n",
    "\n",
    "z = 5\n",
    "print(element(z))"
   ]
  },
  {
   "cell_type": "markdown",
   "metadata": {},
   "source": [
    "Exrcise 2. On the set of integers, a function f is given such that f(n) = n for n < 3 and f(n) = f(n-1)f(n-3) + \n",
    "+ 2f(n-2) for n >= 3.\n",
    "Implement f and find f(6)."
   ]
  },
  {
   "cell_type": "code",
   "execution_count": 18,
   "metadata": {},
   "outputs": [
    {
     "name": "stdout",
     "output_type": "stream",
     "text": [
      "44\n"
     ]
    }
   ],
   "source": [
    "def fun(x):\n",
    "    if x < 3:\n",
    "        return x\n",
    "    else:\n",
    "        return fun(x-1)*fun(x-3) + 2*fun(x-2)\n",
    "    \n",
    "print(fun(6))"
   ]
  },
  {
   "cell_type": "markdown",
   "metadata": {},
   "source": [
    "Exercise 3. Write a function arithmetic() that accepts a character from one of the five arithmetic operations (+, -, *, /, **) and returns an anonymous function of two arguments for the corresponding operation.\n",
    "It is more convenient to define arithmetic() itself through def, rather than through anonymous functions."
   ]
  },
  {
   "cell_type": "code",
   "execution_count": 23,
   "metadata": {},
   "outputs": [
    {
     "name": "stdout",
     "output_type": "stream",
     "text": [
      "32\n"
     ]
    }
   ],
   "source": [
    "def arithmetic(n):\n",
    "    if n == '+':\n",
    "        x, k = input('Enter number 1: '), input('Enter number 2: ')\n",
    "        f = lambda x, k: int(x) + int(k)\n",
    "        return f(x, k)\n",
    "    elif n == '-':\n",
    "        x, k = input('Enter number 1: '), input('Enter number 2: ')\n",
    "        f = lambda x, k: int(x) - int(k)\n",
    "        return f(x, k)\n",
    "    elif n == '*':\n",
    "        x, k = input('Enter number 1: '), input('Enter number 2: ')\n",
    "        f = lambda x, k: int(x) * int(k)\n",
    "        return f(x, k)\n",
    "    elif n == '/':\n",
    "        x, k = input('Enter number 1: '), input('Enter number 2: ')\n",
    "        try:\n",
    "            f = lambda x, k: int(x) / int(k)\n",
    "            return f(x, k)\n",
    "        except:\n",
    "            return 'Error.'\n",
    "    elif n == '**':\n",
    "        x = input('Please enter the number for expanintiation: ')\n",
    "        z = input('Please enter the power for expanintiation: ')\n",
    "        f = lambda x, z: int(x)**int(z)\n",
    "        return f(x, z)\n",
    "\n",
    "def initiation():\n",
    "    n = input(\"Enetr an operator from the +, -, *, /, ** : \")\n",
    "    return arithmetic(n)\n",
    "\n",
    "c = initiation()\n",
    "print(c)"
   ]
  },
  {
   "cell_type": "markdown",
   "metadata": {},
   "source": [
    "Exercise 4. A list of integers is given. Remove all palindrome numbers from the list and print the result on a single line separated by gaps. Use an anonymous function."
   ]
  },
  {
   "cell_type": "code",
   "execution_count": 45,
   "metadata": {},
   "outputs": [
    {
     "name": "stdout",
     "output_type": "stream",
     "text": [
      "18 78 45 23 908 8976 6565 10 1000 908 786\n"
     ]
    }
   ],
   "source": [
    "def proverka(number):\n",
    "    \"\"\"Checks a property of number to be a palindrome.\"\"\"\n",
    "    b = []\n",
    "    while number > 9:\n",
    "        b.append(number % 10)\n",
    "        number //= 10\n",
    "    b.append(number)\n",
    "    length = int(len(b))\n",
    "    count = 0\n",
    "    if length % 2 == 0:\n",
    "        for i in range(int(length / 2)):\n",
    "            if b[i] == b[length - 1 -i]:\n",
    "                count += 1\n",
    "    else:\n",
    "        for i in range(int(length // 2)):\n",
    "            if b[i] == b[length - 1 -i]:\n",
    "                count += 1\n",
    "    if count == length // 2:\n",
    "        return False\n",
    "    else:\n",
    "        return True\n",
    "    \n",
    "    \n",
    "numbers = [18, 191, 9009, 5665, 78, 77, 45, 23, 19991, 908, 8976, 6565, 5665, 10, 1000, 908, 909, 232, 45654, 786]\n",
    "\n",
    "print(*list(filter(proverka, numbers)), sep=' ')"
   ]
  },
  {
   "cell_type": "markdown",
   "metadata": {},
   "source": [
    "Necessary Homework 2. Several numerical segments are  given.  Find the total length overlapped by the segments. Do not forget that the segments may intersect more than once."
   ]
  },
  {
   "cell_type": "code",
   "execution_count": 9,
   "metadata": {},
   "outputs": [
    {
     "ename": "TabError",
     "evalue": "inconsistent use of tabs and spaces in indentation (<string>, line 64)",
     "output_type": "error",
     "traceback": [
      "\u001b[1;36m  File \u001b[1;32m<string>:64\u001b[1;36m\u001b[0m\n\u001b[1;33m    a2 = covered[i]['a']\u001b[0m\n\u001b[1;37m                        ^\u001b[0m\n\u001b[1;31mTabError\u001b[0m\u001b[1;31m:\u001b[0m inconsistent use of tabs and spaces in indentation\n"
     ]
    }
   ],
   "source": [
    "''' This program obtains a set of numerical segments from 'FileSegments.txt'.\n",
    "    Each numerical segment is represented by a string in a format 'a, b'.\n",
    "\tEach line constists of only one numerical segment.\n",
    "\tLins is a List object, every element is a numerical segment 'a, b'.'''\n",
    "\n",
    "file = open('FileSegments.txt')\n",
    "lins = []\n",
    "for line in file:\n",
    "\tlins.append(line.rstrip())\n",
    "file.close()\n",
    "\n",
    "''' We need to process lins to make the data suitable to work.\n",
    "    We wiil reprsent the set of numerical segments as a list of dictionaries.\n",
    "\tsegms will represent this list.\n",
    "\tEach element of segms will have 2 'key-value' pairs: a and b values.'''\n",
    "\n",
    "segms = []\n",
    "for element in lins:\n",
    "\telement = element.split()\n",
    "\tk = list(element[0])\n",
    "\tk.remove(',')\n",
    "\tfor z in range(len(k)):\n",
    "\t\tif z == 0:\n",
    "\t\t\ts = k[z]\n",
    "\t\telse:\n",
    "\t\t\ts += k[z]\n",
    "\ta = s\n",
    "\tb = int(element[1])\n",
    "\tdict = { 'a': a, 'b': b}\n",
    "\tsegms.append(dict)\n",
    "\n",
    "''' To calculate the total length we will constuct a list of dictionaries.\n",
    "    Each dictionary will represent a segment which covers all given segments.\n",
    "\tIf there is a gap between the covered segmetns, they will be represented\n",
    "\tas different dictionaties.\n",
    "\tThese dictionaries will have the same structure as given segments.'''\n",
    "\n",
    "covered = []\n",
    "covered.append(segms[0])\n",
    "\n",
    "# Let's create covering segments to calculate their total length:\n",
    "for segment in segms:\n",
    "\ta1 = segment['a']\n",
    "\tb1 = segment['b']\n",
    "\t# First we will remove this segment if it is already covered:\n",
    "\tflag = 0\n",
    "\tfor segm in covered:\n",
    "\t\tif a1 >= segm['a'] and b1 <= segm['b']:\n",
    "\t\t\tsegms.remove(segment)\n",
    "\t\telse:\n",
    "\t\t\tif a1 <= segm['b'] and b1 > segm['b']:\n",
    "\t\t\t\tflag = 1\n",
    "\t\t\t\tsegm['b'] = b1\n",
    "\t\t\telif a1 < segm['a'] and b1 >= segm['a']:\n",
    "\t\t\t\tflag = 1\n",
    "\t\t\t\tsegm['a'] = a1\n",
    "\tif flag == 0:\n",
    "\t\tcovered.append(segment)\n",
    "\n",
    "def fun1():\n",
    "    i = 0\n",
    "\tlng = len(covered)\n",
    "    flag1 = 0\n",
    "    while i != lng:\n",
    "\t\ta2 = covered[i]['a']\n",
    "\t\tb2 = covered[i]['b']\n",
    "\t\tfor j in range(i, len(covered)):\n",
    "\t\t\tif a2 >= covered[j]['a'] and b2 <= covered[j]['b']:\n",
    "\t\t\t\tsegms.remove(covered[j])\n",
    "\t\t\t\tflag1 = 1\n",
    "\t\t\t\tbreak\n",
    "\t\t\telse:\n",
    "\t\t\t\tif a2 <= covered[j]['b'] and b2 > covered[j]['b']:\n",
    "\t\t\t\t\tflag1 = 1\n",
    "\t\t\t\t\tcovered[j]['b'] = b2\n",
    "\t\t\t\t\tsegms.remove(covered[i])\n",
    "\t\t\t\t\tbreak\n",
    "\t\t\t\telif a2 < covered[j]['a'] and b2 >= covered[j]['a']:\n",
    "\t\t\t\t\tflag1 = 1\n",
    "\t\t\t\t\tsegm['a'] = b1\n",
    "\t\t\t\t\tsegms.remove(covered[j])\n",
    "\t\t\t\t\tbreak\n",
    "\t\tif flag1 == 1:\n",
    "\t\t\tfun1()"
   ]
  }
 ],
 "metadata": {
  "kernelspec": {
   "display_name": "base",
   "language": "python",
   "name": "python3"
  },
  "language_info": {
   "codemirror_mode": {
    "name": "ipython",
    "version": 3
   },
   "file_extension": ".py",
   "mimetype": "text/x-python",
   "name": "python",
   "nbconvert_exporter": "python",
   "pygments_lexer": "ipython3",
   "version": "3.12.3"
  }
 },
 "nbformat": 4,
 "nbformat_minor": 2
}
